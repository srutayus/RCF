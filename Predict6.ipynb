{
 "cells": [
  {
   "cell_type": "code",
   "execution_count": 152,
   "metadata": {},
   "outputs": [
    {
     "ename": "ImportError",
     "evalue": "cannot import name 'strptime'",
     "output_type": "error",
     "traceback": [
      "\u001b[0;31m---------------------------------------------------------------------------\u001b[0m",
      "\u001b[0;31mImportError\u001b[0m                               Traceback (most recent call last)",
      "\u001b[0;32m<ipython-input-152-012b955562dd>\u001b[0m in \u001b[0;36m<module>\u001b[0;34m\u001b[0m\n\u001b[1;32m     14\u001b[0m \u001b[0;32mfrom\u001b[0m \u001b[0msklearn\u001b[0m\u001b[0;34m.\u001b[0m\u001b[0mmodel_selection\u001b[0m \u001b[0;32mimport\u001b[0m \u001b[0mKFold\u001b[0m\u001b[0;34m\u001b[0m\u001b[0;34m\u001b[0m\u001b[0m\n\u001b[1;32m     15\u001b[0m \u001b[0;34m\u001b[0m\u001b[0m\n\u001b[0;32m---> 16\u001b[0;31m \u001b[0;32mfrom\u001b[0m \u001b[0mdatetime\u001b[0m \u001b[0;32mimport\u001b[0m \u001b[0mstrptime\u001b[0m\u001b[0;34m\u001b[0m\u001b[0;34m\u001b[0m\u001b[0m\n\u001b[0m",
      "\u001b[0;31mImportError\u001b[0m: cannot import name 'strptime'"
     ]
    }
   ],
   "source": [
    "import pandas as pd\n",
    "import numpy as np\n",
    "import scipy as sp\n",
    "\n",
    "from numpy.testing import rundocs\n",
    "import matplotlib.pyplot as plt\n",
    "#import talib\n",
    "import random\n",
    "import sklearn\n",
    "from sklearn import preprocessing\n",
    "import tensorflow\n",
    "from sklearn.feature_extraction import DictVectorizer\n",
    "from sklearn.model_selection import StratifiedKFold\n",
    "from sklearn.model_selection import KFold\n",
    "\n",
    "#from datetime import strptime"
   ]
  },
  {
   "cell_type": "code",
   "execution_count": null,
   "metadata": {},
   "outputs": [],
   "source": [
    "le = preprocessing.LabelEncoder()"
   ]
  },
  {
   "cell_type": "code",
   "execution_count": null,
   "metadata": {},
   "outputs": [],
   "source": [
    "df = pd.read_excel(open('Cost.xls', 'rb'), sheet_name='Sheet1')\n",
    "df.head(76)"
   ]
  },
  {
   "cell_type": "code",
   "execution_count": null,
   "metadata": {
    "collapsed": true
   },
   "outputs": [],
   "source": [
    "dataset = df.values"
   ]
  },
  {
   "cell_type": "code",
   "execution_count": null,
   "metadata": {},
   "outputs": [],
   "source": [
    "dataset"
   ]
  },
  {
   "cell_type": "code",
   "execution_count": null,
   "metadata": {
    "collapsed": true
   },
   "outputs": [],
   "source": [
    "X = dataset[:,1:15]"
   ]
  },
  {
   "cell_type": "code",
   "execution_count": null,
   "metadata": {
    "scrolled": true
   },
   "outputs": [],
   "source": [
    "X"
   ]
  },
  {
   "cell_type": "code",
   "execution_count": null,
   "metadata": {},
   "outputs": [],
   "source": [
    "Y = dataset[:,16]"
   ]
  },
  {
   "cell_type": "code",
   "execution_count": null,
   "metadata": {},
   "outputs": [],
   "source": [
    "Y"
   ]
  },
  {
   "cell_type": "code",
   "execution_count": null,
   "metadata": {
    "collapsed": true
   },
   "outputs": [],
   "source": [
    "from sklearn import preprocessing"
   ]
  },
  {
   "cell_type": "code",
   "execution_count": null,
   "metadata": {},
   "outputs": [],
   "source": [
    "min_max_scaler = preprocessing.MinMaxScaler()\n",
    "X_scale = min_max_scaler.fit_transform(X)"
   ]
  },
  {
   "cell_type": "code",
   "execution_count": null,
   "metadata": {
    "scrolled": false
   },
   "outputs": [],
   "source": [
    "X_scale"
   ]
  },
  {
   "cell_type": "code",
   "execution_count": null,
   "metadata": {
    "collapsed": true
   },
   "outputs": [],
   "source": [
    "min_max_scaler2 = preprocessing.MinMaxScaler()\n",
    "#Y_scale = min_max_scaler2.fit_transform(Y)"
   ]
  },
  {
   "cell_type": "code",
   "execution_count": null,
   "metadata": {
    "collapsed": true
   },
   "outputs": [],
   "source": [
    "#Y_scale"
   ]
  },
  {
   "cell_type": "code",
   "execution_count": null,
   "metadata": {
    "collapsed": true
   },
   "outputs": [],
   "source": [
    "from sklearn.feature_extraction import DictVectorizer"
   ]
  },
  {
   "cell_type": "code",
   "execution_count": null,
   "metadata": {
    "collapsed": true
   },
   "outputs": [],
   "source": [
    "from sklearn.model_selection import train_test_split"
   ]
  },
  {
   "cell_type": "code",
   "execution_count": null,
   "metadata": {
    "collapsed": true
   },
   "outputs": [],
   "source": [
    "X_train, X_val_and_test, Y_train, Y_val_and_test = train_test_split(X, Y, test_size=0.3)\n",
    "#X_train, X_val_and_test, Y_train, Y_val_and_test = train_test_split(X_scale, Y, test_size=0.3)\n",
    "#X_train, X_val_and_test, Y_train, Y_val_and_test = train_test_split(X_scale, Y_scale, test_size=0.3)"
   ]
  },
  {
   "cell_type": "code",
   "execution_count": null,
   "metadata": {
    "collapsed": true
   },
   "outputs": [],
   "source": [
    "X_val, X_test, Y_val, Y_test = train_test_split(X_val_and_test, Y_val_and_test, test_size=0.5)"
   ]
  },
  {
   "cell_type": "code",
   "execution_count": null,
   "metadata": {},
   "outputs": [],
   "source": [
    "print(X_train.shape, X_val.shape, X_test.shape, Y_train.shape, Y_val.shape, Y_test.shape)"
   ]
  },
  {
   "cell_type": "code",
   "execution_count": null,
   "metadata": {
    "collapsed": true
   },
   "outputs": [],
   "source": [
    "# fix random seed for reproducibility\n",
    "seed = 7\n",
    "np.random.seed(seed)"
   ]
  },
  {
   "cell_type": "code",
   "execution_count": null,
   "metadata": {
    "collapsed": true
   },
   "outputs": [],
   "source": [
    "# define 10-fold cross validation test harness\n",
    "#kfold = StratifiedKFold(n_splits=10, shuffle=True, random_state=seed)\n",
    "kfold = KFold(n_splits=10, shuffle=True, random_state=seed)\n",
    "cvscores = []"
   ]
  },
  {
   "cell_type": "code",
   "execution_count": null,
   "metadata": {},
   "outputs": [],
   "source": [
    "from keras.models import Sequential\n",
    "from keras.layers import Dense\n",
    "from keras.optimizers import SGD"
   ]
  },
  {
   "cell_type": "code",
   "execution_count": null,
   "metadata": {},
   "outputs": [],
   "source": [
    "for train, test in kfold.split(X_scale, Y):\n",
    "# create model\n",
    "\tmodel2 = Sequential()\n",
    "\tmodel2.add(Dense(12, input_dim=14, activation='relu'))\n",
    "\tmodel2.add(Dense(8, activation='relu'))\n",
    "\tmodel2.add(Dense(1, activation='sigmoid'))\n",
    "\t# Compile model\n",
    "\tmodel2.compile(loss='mse', optimizer='adam', metrics=['accuracy'])\n",
    "\t# Fit the model\n",
    "\tmodel2.fit(X_scale[train], Y[train], epochs=150, batch_size=9, verbose=0)\n",
    "\t# evaluate the model\n",
    "\tscores = model2.evaluate(X_scale[train], Y[train], verbose=0)\n",
    "\tprint(\"%s: %.2f%%\" % (model2.metrics_names[1], scores[1]*100))\n",
    "\tcvscores.append(scores[1] * 100)\n",
    "print(\"%.2f%% (+/- %.2f%%)\" % (np.mean(cvscores), np.std(cvscores)))"
   ]
  },
  {
   "cell_type": "code",
   "execution_count": null,
   "metadata": {},
   "outputs": [],
   "source": [
    "cvscores2 = []\n",
    "for train, test in kfold.split(X_train, Y_train):\n",
    "# create model\n",
    "    model3 = Sequential([\n",
    "        Dense(6, activation='sigmoid', input_shape=(14,)),\n",
    "        #    Dense(3, activation='sigmoid'),\n",
    "        Dense(1, activation='sigmoid'),\n",
    "    ])\n",
    "    epochs=400\n",
    "    learning_rate = 0.1\n",
    "    decay_rate = learning_rate / epochs\n",
    "    momentum = 0.8\n",
    "    sgd = SGD(lr=learning_rate, momentum=momentum, decay=decay_rate, nesterov=False)\n",
    "    model3.compile(optimizer='sgd',\n",
    "              loss='mse',              \n",
    "              metrics=['accuracy'])\n",
    "    hist3 = model3.fit(X_train, Y_train,\n",
    "          batch_size=9, epochs=epochs,\n",
    "          validation_data=(X_val, Y_val))\n",
    "    scores = model3.evaluate(X_scale[train], Y[train], verbose=0)\n",
    "    cvscores2.append(scores[1] * 100)\n",
    "print(\"%.2f%% (+/- %.2f%%)\" % (np.mean(cvscores2), np.std(cvscores)))    \n"
   ]
  },
  {
   "cell_type": "code",
   "execution_count": null,
   "metadata": {},
   "outputs": [],
   "source": [
    "model3.evaluate(X_test, Y_test)[1]"
   ]
  },
  {
   "cell_type": "code",
   "execution_count": null,
   "metadata": {},
   "outputs": [],
   "source": [
    "plt.plot(hist3.history['loss'])\n",
    "plt.plot(hist3.history['val_loss'])\n",
    "plt.title('Model loss')\n",
    "plt.ylabel('Loss')\n",
    "plt.xlabel('Epoch')\n",
    "plt.legend(['Train', 'Val'], loc='upper right')\n",
    "plt.show()"
   ]
  },
  {
   "cell_type": "code",
   "execution_count": null,
   "metadata": {
    "collapsed": true
   },
   "outputs": [],
   "source": [
    "model = Sequential([\n",
    "    Dense(6, activation='sigmoid', input_shape=(14,)),\n",
    "#    Dense(3, activation='sigmoid'),\n",
    "    Dense(1, activation='sigmoid'),\n",
    "])"
   ]
  },
  {
   "cell_type": "code",
   "execution_count": null,
   "metadata": {
    "collapsed": true
   },
   "outputs": [],
   "source": [
    "epochs=400\n",
    "learning_rate = 0.1\n",
    "decay_rate = learning_rate / epochs\n",
    "momentum = 0.8\n",
    "sgd = SGD(lr=learning_rate, momentum=momentum, decay=decay_rate, nesterov=False)\n",
    "#model.compile(optimizer='sgd',\n",
    "#              loss='binary_crossentropy',\n",
    "#              metrics=['accuracy'])\n",
    "#opt = model.optimizers.Adam(learning_rate=0.1)\n",
    "#model.compile(optimizer='adam',\n",
    "#model.compile(optimizer=opt,\n",
    "model.compile(optimizer='sgd',\n",
    "              loss='mse',              \n",
    "              metrics=['accuracy'])\n",
    "#model.compile(loss='categorical_crossentropy', optimizer='SGD', metrics=['accuracy'])"
   ]
  },
  {
   "cell_type": "code",
   "execution_count": null,
   "metadata": {},
   "outputs": [],
   "source": [
    "hist = model.fit(X_train, Y_train,\n",
    "          batch_size=9, epochs=epochs,\n",
    "          validation_data=(X_val, Y_val))"
   ]
  },
  {
   "cell_type": "code",
   "execution_count": null,
   "metadata": {},
   "outputs": [],
   "source": [
    "model.evaluate(X_test, Y_test)[1]"
   ]
  },
  {
   "cell_type": "code",
   "execution_count": null,
   "metadata": {},
   "outputs": [],
   "source": [
    "plt.plot(hist.history['loss'])\n",
    "plt.plot(hist.history['val_loss'])\n",
    "plt.title('Model loss')\n",
    "plt.ylabel('Loss')\n",
    "plt.xlabel('Epoch')\n",
    "plt.legend(['Train', 'Val'], loc='upper right')\n",
    "plt.show()"
   ]
  },
  {
   "cell_type": "code",
   "execution_count": null,
   "metadata": {
    "collapsed": true
   },
   "outputs": [],
   "source": [
    "from keras.models import Sequential"
   ]
  },
  {
   "cell_type": "code",
   "execution_count": null,
   "metadata": {},
   "outputs": [],
   "source": [
    "#model = Sequential()\n",
    "weights = model.get_weights()"
   ]
  },
  {
   "cell_type": "code",
   "execution_count": 153,
   "metadata": {},
   "outputs": [
    {
     "name": "stdout",
     "output_type": "stream",
     "text": [
      "[array([[ 0.19229531,  0.35451013, -0.3189302 ,  0.03631765, -0.49259374,\n",
      "         0.08184843],\n",
      "       [-0.22001639,  0.27761948, -0.4241109 ,  0.15830255, -0.41002423,\n",
      "        -0.4549794 ],\n",
      "       [ 0.08516902,  0.09501839, -0.30762577,  0.14406699, -0.10735095,\n",
      "        -0.08530804],\n",
      "       [-0.00176865, -0.16515985,  0.17678303,  0.36890817, -0.38025868,\n",
      "        -0.44199193],\n",
      "       [ 0.42518395,  0.19149312, -0.24752177, -0.40831965, -0.49820352,\n",
      "         0.3912526 ],\n",
      "       [-0.41983053, -0.13782778,  0.06917561,  0.54590476, -0.05153587,\n",
      "         0.42513534],\n",
      "       [-0.10494292, -0.5430383 , -0.24095905, -0.08694434, -0.4670232 ,\n",
      "         0.39805436],\n",
      "       [-0.08974373,  0.34072328,  0.05154237,  0.31725687,  0.521268  ,\n",
      "         0.2622502 ],\n",
      "       [ 0.13293219,  0.52716446, -0.501592  ,  0.31634134,  0.10314888,\n",
      "         0.07662079],\n",
      "       [-0.54623413,  0.19757938,  0.08911473,  0.12227404, -0.03189397,\n",
      "        -0.08992677],\n",
      "       [ 0.32170767, -0.08097962, -0.04019903, -0.5284163 ,  0.26061648,\n",
      "        -0.28105733],\n",
      "       [-0.21556741,  0.18112922,  0.42684412,  0.49517035, -0.00523394,\n",
      "         0.5255465 ],\n",
      "       [-0.5030859 , -0.30035684,  0.46637258, -0.12169582, -0.28444344,\n",
      "        -0.4695572 ],\n",
      "       [-0.2231164 ,  0.16339284, -0.04019148,  0.19952923,  0.5245794 ,\n",
      "        -0.11323603]], dtype=float32), array([ 0.0000000e+00, -1.3973641e-08, -9.7699458e-06,  0.0000000e+00,\n",
      "        0.0000000e+00, -2.4907695e-06], dtype=float32), array([[-0.23356503],\n",
      "       [-0.6792147 ],\n",
      "       [-0.73383087],\n",
      "       [-0.5530604 ],\n",
      "       [ 0.20918596],\n",
      "       [ 0.28528735]], dtype=float32), array([-0.02084045], dtype=float32)]\n"
     ]
    }
   ],
   "source": [
    "print(weights)"
   ]
  },
  {
   "cell_type": "code",
   "execution_count": 154,
   "metadata": {},
   "outputs": [
    {
     "name": "stdout",
     "output_type": "stream",
     "text": [
      "Model: \"sequential_23\"\n",
      "_________________________________________________________________\n",
      "Layer (type)                 Output Shape              Param #   \n",
      "=================================================================\n",
      "dense_57 (Dense)             (None, 6)                 90        \n",
      "_________________________________________________________________\n",
      "dense_58 (Dense)             (None, 1)                 7         \n",
      "=================================================================\n",
      "Total params: 97\n",
      "Trainable params: 97\n",
      "Non-trainable params: 0\n",
      "_________________________________________________________________\n"
     ]
    }
   ],
   "source": [
    "model.summary()"
   ]
  },
  {
   "cell_type": "code",
   "execution_count": 155,
   "metadata": {},
   "outputs": [
    {
     "data": {
      "text/plain": [
       "[2002, 1.9, 1]"
      ]
     },
     "execution_count": 155,
     "metadata": {},
     "output_type": "execute_result"
    }
   ],
   "source": [
    "Xnew = [[2002, 1.9, 1], [2012, 2, 1], [2015, 2, 4]]\n",
    "Xnew = [2002, 1.9, 1]\n",
    "Xnew"
   ]
  },
  {
   "cell_type": "code",
   "execution_count": 156,
   "metadata": {},
   "outputs": [
    {
     "data": {
      "text/html": [
       "<div>\n",
       "<style scoped>\n",
       "    .dataframe tbody tr th:only-of-type {\n",
       "        vertical-align: middle;\n",
       "    }\n",
       "\n",
       "    .dataframe tbody tr th {\n",
       "        vertical-align: top;\n",
       "    }\n",
       "\n",
       "    .dataframe thead th {\n",
       "        text-align: right;\n",
       "    }\n",
       "</style>\n",
       "<table border=\"1\" class=\"dataframe\">\n",
       "  <thead>\n",
       "    <tr style=\"text-align: right;\">\n",
       "      <th></th>\n",
       "      <th>Unit Name</th>\n",
       "      <th>Type Unit</th>\n",
       "      <th>Region</th>\n",
       "      <th>Lease/ Own</th>\n",
       "      <th>Water Depth\\n(meters)</th>\n",
       "      <th>Contracting Date</th>\n",
       "      <th>Contract (EPC, CL, PS, TK)</th>\n",
       "      <th>Local Content Requirment (H,M,A,L, N)</th>\n",
       "      <th>Technology Novelt (H,M,A,L,N)</th>\n",
       "      <th>FEED Detail (H,M,A,L,N)</th>\n",
       "      <th>FEED Detail (H,M,A,L,N).1</th>\n",
       "      <th>Lessons Learned</th>\n",
       "      <th>Company (NOC, IOC, OC)</th>\n",
       "      <th>Planned_Duration</th>\n",
       "      <th>Planned_Cost</th>\n",
       "      <th>Schedule_Overrun</th>\n",
       "      <th>Cost_Overrun</th>\n",
       "    </tr>\n",
       "  </thead>\n",
       "  <tbody>\n",
       "    <tr>\n",
       "      <th>0</th>\n",
       "      <td>1</td>\n",
       "      <td>1</td>\n",
       "      <td>2</td>\n",
       "      <td>1</td>\n",
       "      <td>825</td>\n",
       "      <td>4096</td>\n",
       "      <td>1</td>\n",
       "      <td>3</td>\n",
       "      <td>3</td>\n",
       "      <td>4</td>\n",
       "      <td>4</td>\n",
       "      <td>2</td>\n",
       "      <td>2</td>\n",
       "      <td>702</td>\n",
       "      <td>0.598425</td>\n",
       "      <td>-0.143875</td>\n",
       "      <td>0.270000</td>\n",
       "    </tr>\n",
       "    <tr>\n",
       "      <th>1</th>\n",
       "      <td>2</td>\n",
       "      <td>2</td>\n",
       "      <td>1</td>\n",
       "      <td>2</td>\n",
       "      <td>600</td>\n",
       "      <td>3894</td>\n",
       "      <td>1</td>\n",
       "      <td>2</td>\n",
       "      <td>1</td>\n",
       "      <td>4</td>\n",
       "      <td>4</td>\n",
       "      <td>3</td>\n",
       "      <td>2</td>\n",
       "      <td>994</td>\n",
       "      <td>1.133000</td>\n",
       "      <td>-0.022133</td>\n",
       "      <td>0.350000</td>\n",
       "    </tr>\n",
       "    <tr>\n",
       "      <th>2</th>\n",
       "      <td>P 57</td>\n",
       "      <td>1</td>\n",
       "      <td>3</td>\n",
       "      <td>1</td>\n",
       "      <td>1300</td>\n",
       "      <td>4796</td>\n",
       "      <td>1</td>\n",
       "      <td>5</td>\n",
       "      <td>1</td>\n",
       "      <td>1</td>\n",
       "      <td>1</td>\n",
       "      <td>4</td>\n",
       "      <td>1</td>\n",
       "      <td>1041</td>\n",
       "      <td>1.195000</td>\n",
       "      <td>-0.045149</td>\n",
       "      <td>0.004184</td>\n",
       "    </tr>\n",
       "    <tr>\n",
       "      <th>3</th>\n",
       "      <td>Pioneiro de Libra</td>\n",
       "      <td>1</td>\n",
       "      <td>3</td>\n",
       "      <td>1</td>\n",
       "      <td>2200</td>\n",
       "      <td>7158</td>\n",
       "      <td>4</td>\n",
       "      <td>5</td>\n",
       "      <td>1</td>\n",
       "      <td>1</td>\n",
       "      <td>1</td>\n",
       "      <td>5</td>\n",
       "      <td>1</td>\n",
       "      <td>831</td>\n",
       "      <td>1.000000</td>\n",
       "      <td>0.457280</td>\n",
       "      <td>0.594411</td>\n",
       "    </tr>\n",
       "    <tr>\n",
       "      <th>4</th>\n",
       "      <td>P 63</td>\n",
       "      <td>1</td>\n",
       "      <td>3</td>\n",
       "      <td>2</td>\n",
       "      <td>1170</td>\n",
       "      <td>5387</td>\n",
       "      <td>1</td>\n",
       "      <td>5</td>\n",
       "      <td>1</td>\n",
       "      <td>2</td>\n",
       "      <td>2</td>\n",
       "      <td>2</td>\n",
       "      <td>1</td>\n",
       "      <td>1383</td>\n",
       "      <td>1.300000</td>\n",
       "      <td>0.086768</td>\n",
       "      <td>0.253846</td>\n",
       "    </tr>\n",
       "  </tbody>\n",
       "</table>\n",
       "</div>"
      ],
      "text/plain": [
       "           Unit Name  Type Unit  Region  Lease/ Own  Water Depth\\n(meters)  \\\n",
       "0                  1          1       2           1                    825   \n",
       "1                  2          2       1           2                    600   \n",
       "2               P 57          1       3           1                   1300   \n",
       "3  Pioneiro de Libra          1       3           1                   2200   \n",
       "4               P 63          1       3           2                   1170   \n",
       "\n",
       "   Contracting Date  Contract (EPC, CL, PS, TK)  \\\n",
       "0              4096                           1   \n",
       "1              3894                           1   \n",
       "2              4796                           1   \n",
       "3              7158                           4   \n",
       "4              5387                           1   \n",
       "\n",
       "   Local Content Requirment (H,M,A,L, N)  Technology Novelt (H,M,A,L,N)  \\\n",
       "0                                      3                              3   \n",
       "1                                      2                              1   \n",
       "2                                      5                              1   \n",
       "3                                      5                              1   \n",
       "4                                      5                              1   \n",
       "\n",
       "   FEED Detail (H,M,A,L,N)  FEED Detail (H,M,A,L,N).1  Lessons Learned  \\\n",
       "0                        4                          4                2   \n",
       "1                        4                          4                3   \n",
       "2                        1                          1                4   \n",
       "3                        1                          1                5   \n",
       "4                        2                          2                2   \n",
       "\n",
       "   Company (NOC, IOC, OC)  Planned_Duration  Planned_Cost  Schedule_Overrun  \\\n",
       "0                       2               702      0.598425         -0.143875   \n",
       "1                       2               994      1.133000         -0.022133   \n",
       "2                       1              1041      1.195000         -0.045149   \n",
       "3                       1               831      1.000000          0.457280   \n",
       "4                       1              1383      1.300000          0.086768   \n",
       "\n",
       "   Cost_Overrun  \n",
       "0      0.270000  \n",
       "1      0.350000  \n",
       "2      0.004184  \n",
       "3      0.594411  \n",
       "4      0.253846  "
      ]
     },
     "execution_count": 156,
     "metadata": {},
     "output_type": "execute_result"
    }
   ],
   "source": [
    "df_t = pd.read_excel(open('Cost.xls', 'rb'), sheet_name='Test1')\n",
    "df_t.head()"
   ]
  },
  {
   "cell_type": "code",
   "execution_count": 157,
   "metadata": {},
   "outputs": [
    {
     "data": {
      "text/plain": [
       "array([[1, 2, 1, 825, 4096, 1, 3, 3, 4, 4, 2, 2, 702, 0.5984251968503937],\n",
       "       [2, 1, 2, 600, 3894, 1, 2, 1, 4, 4, 3, 2, 994, 1.133],\n",
       "       [1, 3, 1, 1300, 4796, 1, 5, 1, 1, 1, 4, 1, 1041, 1.195],\n",
       "       [1, 3, 1, 2200, 7158, 4, 5, 1, 1, 1, 5, 1, 831, 1.0],\n",
       "       [1, 3, 2, 1170, 5387, 1, 5, 1, 2, 2, 2, 1, 1383, 1.3]],\n",
       "      dtype=object)"
      ]
     },
     "execution_count": 157,
     "metadata": {},
     "output_type": "execute_result"
    }
   ],
   "source": [
    "dataset_t = df_t.values\n",
    "Xnew = dataset_t[:,1:15]\n",
    "Xnew\n"
   ]
  },
  {
   "cell_type": "code",
   "execution_count": 158,
   "metadata": {},
   "outputs": [],
   "source": [
    "ynew1 = model.predict(Xnew)"
   ]
  },
  {
   "cell_type": "code",
   "execution_count": 159,
   "metadata": {},
   "outputs": [
    {
     "name": "stdout",
     "output_type": "stream",
     "text": [
      "The values of Xnew and its predicted yhat\n",
      "Xnew[0] = [1 2 1 825 4096 1 3 3 4 4 2 2 702 0.5984251968503937], ynew[0] = [0.3433653] \n",
      "Xnew[1] = [2 1 2 600 3894 1 2 1 4 4 3 2 994 1.133], ynew[1] = [0.3433653] \n",
      "Xnew[2] = [1 3 1 1300 4796 1 5 1 1 1 4 1 1041 1.195], ynew[2] = [0.3433653] \n",
      "Xnew[3] = [1 3 1 2200 7158 4 5 1 1 1 5 1 831 1.0], ynew[3] = [0.3433653] \n",
      "Xnew[4] = [1 3 2 1170 5387 1 5 1 2 2 2 1 1383 1.3], ynew[4] = [0.3433653] \n"
     ]
    }
   ],
   "source": [
    "print(\"The values of Xnew and its predicted yhat\")\n",
    "for loop in range(len(Xnew)):\n",
    "        print(\"Xnew[%s] = %s, ynew[%s] = %s \" % (loop,Xnew[loop],loop,ynew1[loop]))"
   ]
  },
  {
   "cell_type": "code",
   "execution_count": 160,
   "metadata": {},
   "outputs": [
    {
     "data": {
      "text/plain": [
       "array([[0.3433653],\n",
       "       [0.3433653],\n",
       "       [0.3433653],\n",
       "       [0.3433653],\n",
       "       [0.3433653]], dtype=float32)"
      ]
     },
     "execution_count": 160,
     "metadata": {},
     "output_type": "execute_result"
    }
   ],
   "source": [
    "ynew1"
   ]
  },
  {
   "cell_type": "code",
   "execution_count": 161,
   "metadata": {},
   "outputs": [],
   "source": [
    "ynew3 = model3.predict(Xnew)"
   ]
  },
  {
   "cell_type": "code",
   "execution_count": 162,
   "metadata": {},
   "outputs": [
    {
     "name": "stdout",
     "output_type": "stream",
     "text": [
      "The values of Xnew and its predicted yhat\n",
      "Xnew[0] = [1 2 1 825 4096 1 3 3 4 4 2 2 702 0.5984251968503937], ynew[0] = [0.31589693] \n",
      "Xnew[1] = [2 1 2 600 3894 1 2 1 4 4 3 2 994 1.133], ynew[1] = [0.31589693] \n",
      "Xnew[2] = [1 3 1 1300 4796 1 5 1 1 1 4 1 1041 1.195], ynew[2] = [0.31589693] \n",
      "Xnew[3] = [1 3 1 2200 7158 4 5 1 1 1 5 1 831 1.0], ynew[3] = [0.31589693] \n",
      "Xnew[4] = [1 3 2 1170 5387 1 5 1 2 2 2 1 1383 1.3], ynew[4] = [0.3158969] \n"
     ]
    }
   ],
   "source": [
    "print(\"The values of Xnew and its predicted yhat\")\n",
    "for loop in range(len(Xnew)):\n",
    "        print(\"Xnew[%s] = %s, ynew[%s] = %s \" % (loop,Xnew[loop],loop,ynew3[loop]))"
   ]
  },
  {
   "cell_type": "code",
   "execution_count": 163,
   "metadata": {},
   "outputs": [
    {
     "data": {
      "text/plain": [
       "array([[0.31589693],\n",
       "       [0.31589693],\n",
       "       [0.31589693],\n",
       "       [0.31589693],\n",
       "       [0.3158969 ]], dtype=float32)"
      ]
     },
     "execution_count": 163,
     "metadata": {},
     "output_type": "execute_result"
    }
   ],
   "source": [
    "ynew3"
   ]
  },
  {
   "cell_type": "code",
   "execution_count": null,
   "metadata": {
    "collapsed": true
   },
   "outputs": [],
   "source": []
  }
 ],
 "metadata": {
  "kernelspec": {
   "display_name": "Python 3",
   "language": "python",
   "name": "python3"
  },
  "language_info": {
   "codemirror_mode": {
    "name": "ipython",
    "version": 3
   },
   "file_extension": ".py",
   "mimetype": "text/x-python",
   "name": "python",
   "nbconvert_exporter": "python",
   "pygments_lexer": "ipython3",
   "version": "3.6.10"
  }
 },
 "nbformat": 4,
 "nbformat_minor": 4
}
